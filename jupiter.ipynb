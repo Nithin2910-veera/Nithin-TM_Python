{
 "metadata": {
  "language_info": {
   "codemirror_mode": {
    "name": "ipython",
    "version": 3
   },
   "file_extension": ".py",
   "mimetype": "text/x-python",
   "name": "python",
   "nbconvert_exporter": "python",
   "pygments_lexer": "ipython3",
   "version": "3.8.3-final"
  },
  "orig_nbformat": 2,
  "kernelspec": {
   "name": "python3",
   "display_name": "Python 3"
  }
 },
 "nbformat": 4,
 "nbformat_minor": 2,
 "cells": [
  {
   "cell_type": "code",
   "execution_count": 12,
   "metadata": {},
   "outputs": [],
   "source": [
    "import numpy as np\n",
    "import pandas as pd \n"
   ]
  },
  {
   "cell_type": "code",
   "execution_count": 2,
   "metadata": {},
   "outputs": [],
   "source": [
    "dict = {\n",
    "    \"place\":['RV road','bansankri','jp nagar','yelachenahalli','K cross'],\n",
    "    \"price\":[25,30,35,40,45],\n",
    "    \"time\":[30,36,40,47,53]\n",
    "}"
   ]
  },
  {
   "cell_type": "code",
   "execution_count": 4,
   "metadata": {},
   "outputs": [],
   "source": [
    "df = pd.DataFrame(dict)"
   ]
  },
  {
   "cell_type": "code",
   "execution_count": null,
   "metadata": {},
   "outputs": [],
   "source": []
  },
  {
   "cell_type": "code",
   "execution_count": 6,
   "metadata": {},
   "outputs": [],
   "source": [
    "# to convert it to csv:\n",
    "df.to_csv(\"Bng metro.csv\")"
   ]
  },
  {
   "cell_type": "code",
   "execution_count": 7,
   "metadata": {},
   "outputs": [
    {
     "output_type": "execute_result",
     "data": {
      "text/plain": [
       "     place  price  time\n",
       "0  RV road     25    30"
      ],
      "text/html": "<div>\n<style scoped>\n    .dataframe tbody tr th:only-of-type {\n        vertical-align: middle;\n    }\n\n    .dataframe tbody tr th {\n        vertical-align: top;\n    }\n\n    .dataframe thead th {\n        text-align: right;\n    }\n</style>\n<table border=\"1\" class=\"dataframe\">\n  <thead>\n    <tr style=\"text-align: right;\">\n      <th></th>\n      <th>place</th>\n      <th>price</th>\n      <th>time</th>\n    </tr>\n  </thead>\n  <tbody>\n    <tr>\n      <th>0</th>\n      <td>RV road</td>\n      <td>25</td>\n      <td>30</td>\n    </tr>\n  </tbody>\n</table>\n</div>"
     },
     "metadata": {},
     "execution_count": 7
    }
   ],
   "source": [
    "df.head(1)"
   ]
  },
  {
   "cell_type": "code",
   "execution_count": 8,
   "metadata": {},
   "outputs": [
    {
     "output_type": "execute_result",
     "data": {
      "text/plain": [
       "            place  price  time\n",
       "3  yelachenahalli     40    47\n",
       "4         K cross     45    53"
      ],
      "text/html": "<div>\n<style scoped>\n    .dataframe tbody tr th:only-of-type {\n        vertical-align: middle;\n    }\n\n    .dataframe tbody tr th {\n        vertical-align: top;\n    }\n\n    .dataframe thead th {\n        text-align: right;\n    }\n</style>\n<table border=\"1\" class=\"dataframe\">\n  <thead>\n    <tr style=\"text-align: right;\">\n      <th></th>\n      <th>place</th>\n      <th>price</th>\n      <th>time</th>\n    </tr>\n  </thead>\n  <tbody>\n    <tr>\n      <th>3</th>\n      <td>yelachenahalli</td>\n      <td>40</td>\n      <td>47</td>\n    </tr>\n    <tr>\n      <th>4</th>\n      <td>K cross</td>\n      <td>45</td>\n      <td>53</td>\n    </tr>\n  </tbody>\n</table>\n</div>"
     },
     "metadata": {},
     "execution_count": 8
    }
   ],
   "source": [
    "df.tail(2)"
   ]
  },
  {
   "cell_type": "code",
   "execution_count": 10,
   "metadata": {},
   "outputs": [
    {
     "output_type": "execute_result",
     "data": {
      "text/plain": [
       "           price       time\n",
       "count   5.000000   5.000000\n",
       "mean   35.000000  41.200000\n",
       "std     7.905694   9.038805\n",
       "min    25.000000  30.000000\n",
       "25%    30.000000  36.000000\n",
       "50%    35.000000  40.000000\n",
       "75%    40.000000  47.000000\n",
       "max    45.000000  53.000000"
      ],
      "text/html": "<div>\n<style scoped>\n    .dataframe tbody tr th:only-of-type {\n        vertical-align: middle;\n    }\n\n    .dataframe tbody tr th {\n        vertical-align: top;\n    }\n\n    .dataframe thead th {\n        text-align: right;\n    }\n</style>\n<table border=\"1\" class=\"dataframe\">\n  <thead>\n    <tr style=\"text-align: right;\">\n      <th></th>\n      <th>price</th>\n      <th>time</th>\n    </tr>\n  </thead>\n  <tbody>\n    <tr>\n      <th>count</th>\n      <td>5.000000</td>\n      <td>5.000000</td>\n    </tr>\n    <tr>\n      <th>mean</th>\n      <td>35.000000</td>\n      <td>41.200000</td>\n    </tr>\n    <tr>\n      <th>std</th>\n      <td>7.905694</td>\n      <td>9.038805</td>\n    </tr>\n    <tr>\n      <th>min</th>\n      <td>25.000000</td>\n      <td>30.000000</td>\n    </tr>\n    <tr>\n      <th>25%</th>\n      <td>30.000000</td>\n      <td>36.000000</td>\n    </tr>\n    <tr>\n      <th>50%</th>\n      <td>35.000000</td>\n      <td>40.000000</td>\n    </tr>\n    <tr>\n      <th>75%</th>\n      <td>40.000000</td>\n      <td>47.000000</td>\n    </tr>\n    <tr>\n      <th>max</th>\n      <td>45.000000</td>\n      <td>53.000000</td>\n    </tr>\n  </tbody>\n</table>\n</div>"
     },
     "metadata": {},
     "execution_count": 10
    }
   ],
   "source": [
    "df.describe()"
   ]
  },
  {
   "cell_type": "code",
   "execution_count": 13,
   "metadata": {},
   "outputs": [
    {
     "output_type": "execute_result",
     "data": {
      "text/plain": [
       "0     0.468667\n",
       "1     0.681690\n",
       "2     0.246749\n",
       "3     0.797141\n",
       "4     0.353674\n",
       "5     0.928182\n",
       "6     0.139618\n",
       "7     0.804959\n",
       "8     0.104715\n",
       "9     0.261298\n",
       "10    0.948664\n",
       "11    0.904918\n",
       "12    0.573405\n",
       "13    0.259884\n",
       "14    0.200335\n",
       "15    0.985631\n",
       "16    0.826889\n",
       "17    0.936320\n",
       "18    0.784842\n",
       "19    0.732982\n",
       "20    0.251291\n",
       "21    0.114843\n",
       "22    0.129966\n",
       "23    0.864343\n",
       "24    0.970248\n",
       "25    0.789209\n",
       "26    0.348237\n",
       "27    0.518238\n",
       "28    0.943428\n",
       "dtype: float64"
      ]
     },
     "metadata": {},
     "execution_count": 13
    }
   ],
   "source": [
    "# example of SERIES :\n",
    "ser =  pd.Series(np.random.rand(29))\n",
    "ser"
   ]
  },
  {
   "cell_type": "code",
   "execution_count": 14,
   "metadata": {},
   "outputs": [
    {
     "output_type": "execute_result",
     "data": {
      "text/plain": [
       "pandas.core.series.Series"
      ]
     },
     "metadata": {},
     "execution_count": 14
    }
   ],
   "source": [
    "type(ser)"
   ]
  },
  {
   "cell_type": "code",
   "execution_count": 17,
   "metadata": {},
   "outputs": [
    {
     "output_type": "execute_result",
     "data": {
      "text/plain": [
       "          0         1         2         3         4         5\n",
       "0  0.396122  0.596955  0.125960  0.556828  0.379832  0.514661\n",
       "1  0.161528  0.402824  0.011391  0.016977  0.332403  0.605392\n",
       "2  0.207271  0.618192  0.659637  0.972189  0.641388  0.933037\n",
       "3  0.622696  0.970625  0.935213  0.846083  0.517119  0.782236\n",
       "4  0.413436  0.357519  0.630102  0.398503  0.922693  0.287006"
      ],
      "text/html": "<div>\n<style scoped>\n    .dataframe tbody tr th:only-of-type {\n        vertical-align: middle;\n    }\n\n    .dataframe tbody tr th {\n        vertical-align: top;\n    }\n\n    .dataframe thead th {\n        text-align: right;\n    }\n</style>\n<table border=\"1\" class=\"dataframe\">\n  <thead>\n    <tr style=\"text-align: right;\">\n      <th></th>\n      <th>0</th>\n      <th>1</th>\n      <th>2</th>\n      <th>3</th>\n      <th>4</th>\n      <th>5</th>\n    </tr>\n  </thead>\n  <tbody>\n    <tr>\n      <th>0</th>\n      <td>0.396122</td>\n      <td>0.596955</td>\n      <td>0.125960</td>\n      <td>0.556828</td>\n      <td>0.379832</td>\n      <td>0.514661</td>\n    </tr>\n    <tr>\n      <th>1</th>\n      <td>0.161528</td>\n      <td>0.402824</td>\n      <td>0.011391</td>\n      <td>0.016977</td>\n      <td>0.332403</td>\n      <td>0.605392</td>\n    </tr>\n    <tr>\n      <th>2</th>\n      <td>0.207271</td>\n      <td>0.618192</td>\n      <td>0.659637</td>\n      <td>0.972189</td>\n      <td>0.641388</td>\n      <td>0.933037</td>\n    </tr>\n    <tr>\n      <th>3</th>\n      <td>0.622696</td>\n      <td>0.970625</td>\n      <td>0.935213</td>\n      <td>0.846083</td>\n      <td>0.517119</td>\n      <td>0.782236</td>\n    </tr>\n    <tr>\n      <th>4</th>\n      <td>0.413436</td>\n      <td>0.357519</td>\n      <td>0.630102</td>\n      <td>0.398503</td>\n      <td>0.922693</td>\n      <td>0.287006</td>\n    </tr>\n  </tbody>\n</table>\n</div>"
     },
     "metadata": {},
     "execution_count": 17
    }
   ],
   "source": [
    "# example for DATAFRAME :\n",
    "datafr = pd.DataFrame(np.random.rand(229,6),index=np.arange(229)) # 229=rows,6=columns,arange=type of range function \n",
    "datafr.head()"
   ]
  },
  {
   "cell_type": "code",
   "execution_count": 18,
   "metadata": {},
   "outputs": [
    {
     "output_type": "execute_result",
     "data": {
      "text/plain": [
       "            0         1         2         3         4         5\n",
       "0    0.396122  0.596955  0.125960  0.556828  0.379832  0.514661\n",
       "1    0.161528  0.402824  0.011391  0.016977  0.332403  0.605392\n",
       "2    0.207271  0.618192  0.659637  0.972189  0.641388  0.933037\n",
       "3    0.622696  0.970625  0.935213  0.846083  0.517119  0.782236\n",
       "4    0.413436  0.357519  0.630102  0.398503  0.922693  0.287006\n",
       "..        ...       ...       ...       ...       ...       ...\n",
       "224  0.272401  0.781633  0.910717  0.000954  0.806334  0.974305\n",
       "225  0.444971  0.522284  0.674691  0.326321  0.200524  0.873504\n",
       "226  0.833411  0.807278  0.846535  0.601713  0.113366  0.371206\n",
       "227  0.902008  0.014023  0.829247  0.888083  0.003409  0.894742\n",
       "228  0.750771  0.629490  0.948745  0.967471  0.131114  0.186845\n",
       "\n",
       "[229 rows x 6 columns]"
      ],
      "text/html": "<div>\n<style scoped>\n    .dataframe tbody tr th:only-of-type {\n        vertical-align: middle;\n    }\n\n    .dataframe tbody tr th {\n        vertical-align: top;\n    }\n\n    .dataframe thead th {\n        text-align: right;\n    }\n</style>\n<table border=\"1\" class=\"dataframe\">\n  <thead>\n    <tr style=\"text-align: right;\">\n      <th></th>\n      <th>0</th>\n      <th>1</th>\n      <th>2</th>\n      <th>3</th>\n      <th>4</th>\n      <th>5</th>\n    </tr>\n  </thead>\n  <tbody>\n    <tr>\n      <th>0</th>\n      <td>0.396122</td>\n      <td>0.596955</td>\n      <td>0.125960</td>\n      <td>0.556828</td>\n      <td>0.379832</td>\n      <td>0.514661</td>\n    </tr>\n    <tr>\n      <th>1</th>\n      <td>0.161528</td>\n      <td>0.402824</td>\n      <td>0.011391</td>\n      <td>0.016977</td>\n      <td>0.332403</td>\n      <td>0.605392</td>\n    </tr>\n    <tr>\n      <th>2</th>\n      <td>0.207271</td>\n      <td>0.618192</td>\n      <td>0.659637</td>\n      <td>0.972189</td>\n      <td>0.641388</td>\n      <td>0.933037</td>\n    </tr>\n    <tr>\n      <th>3</th>\n      <td>0.622696</td>\n      <td>0.970625</td>\n      <td>0.935213</td>\n      <td>0.846083</td>\n      <td>0.517119</td>\n      <td>0.782236</td>\n    </tr>\n    <tr>\n      <th>4</th>\n      <td>0.413436</td>\n      <td>0.357519</td>\n      <td>0.630102</td>\n      <td>0.398503</td>\n      <td>0.922693</td>\n      <td>0.287006</td>\n    </tr>\n    <tr>\n      <th>...</th>\n      <td>...</td>\n      <td>...</td>\n      <td>...</td>\n      <td>...</td>\n      <td>...</td>\n      <td>...</td>\n    </tr>\n    <tr>\n      <th>224</th>\n      <td>0.272401</td>\n      <td>0.781633</td>\n      <td>0.910717</td>\n      <td>0.000954</td>\n      <td>0.806334</td>\n      <td>0.974305</td>\n    </tr>\n    <tr>\n      <th>225</th>\n      <td>0.444971</td>\n      <td>0.522284</td>\n      <td>0.674691</td>\n      <td>0.326321</td>\n      <td>0.200524</td>\n      <td>0.873504</td>\n    </tr>\n    <tr>\n      <th>226</th>\n      <td>0.833411</td>\n      <td>0.807278</td>\n      <td>0.846535</td>\n      <td>0.601713</td>\n      <td>0.113366</td>\n      <td>0.371206</td>\n    </tr>\n    <tr>\n      <th>227</th>\n      <td>0.902008</td>\n      <td>0.014023</td>\n      <td>0.829247</td>\n      <td>0.888083</td>\n      <td>0.003409</td>\n      <td>0.894742</td>\n    </tr>\n    <tr>\n      <th>228</th>\n      <td>0.750771</td>\n      <td>0.629490</td>\n      <td>0.948745</td>\n      <td>0.967471</td>\n      <td>0.131114</td>\n      <td>0.186845</td>\n    </tr>\n  </tbody>\n</table>\n<p>229 rows × 6 columns</p>\n</div>"
     },
     "metadata": {},
     "execution_count": 18
    }
   ],
   "source": [
    "datafr"
   ]
  },
  {
   "cell_type": "code",
   "execution_count": 19,
   "metadata": {},
   "outputs": [
    {
     "output_type": "execute_result",
     "data": {
      "text/plain": [
       "pandas.core.frame.DataFrame"
      ]
     },
     "metadata": {},
     "execution_count": 19
    }
   ],
   "source": [
    "type(datafr)"
   ]
  },
  {
   "cell_type": "code",
   "execution_count": 20,
   "metadata": {},
   "outputs": [
    {
     "output_type": "execute_result",
     "data": {
      "text/plain": [
       "0    float64\n",
       "1    float64\n",
       "2    float64\n",
       "3    float64\n",
       "4    float64\n",
       "5    float64\n",
       "dtype: object"
      ]
     },
     "metadata": {},
     "execution_count": 20
    }
   ],
   "source": [
    "datafr.dtypes"
   ]
  },
  {
   "cell_type": "code",
   "execution_count": 22,
   "metadata": {},
   "outputs": [
    {
     "output_type": "execute_result",
     "data": {
      "text/plain": [
       "          0         1         2         3         4         5\n",
       "0  0.396122  0.596955  0.125960  0.556828  0.379832  0.514661\n",
       "1  0.161528  0.402824  0.011391  0.016977  0.332403  0.605392\n",
       "2  0.207271  0.618192  0.659637  0.972189  0.641388  0.933037\n",
       "3  0.622696  0.970625  0.935213  0.846083  0.517119  0.782236\n",
       "4  0.413436  0.357519  0.630102  0.398503  0.922693  0.287006"
      ],
      "text/html": "<div>\n<style scoped>\n    .dataframe tbody tr th:only-of-type {\n        vertical-align: middle;\n    }\n\n    .dataframe tbody tr th {\n        vertical-align: top;\n    }\n\n    .dataframe thead th {\n        text-align: right;\n    }\n</style>\n<table border=\"1\" class=\"dataframe\">\n  <thead>\n    <tr style=\"text-align: right;\">\n      <th></th>\n      <th>0</th>\n      <th>1</th>\n      <th>2</th>\n      <th>3</th>\n      <th>4</th>\n      <th>5</th>\n    </tr>\n  </thead>\n  <tbody>\n    <tr>\n      <th>0</th>\n      <td>0.396122</td>\n      <td>0.596955</td>\n      <td>0.125960</td>\n      <td>0.556828</td>\n      <td>0.379832</td>\n      <td>0.514661</td>\n    </tr>\n    <tr>\n      <th>1</th>\n      <td>0.161528</td>\n      <td>0.402824</td>\n      <td>0.011391</td>\n      <td>0.016977</td>\n      <td>0.332403</td>\n      <td>0.605392</td>\n    </tr>\n    <tr>\n      <th>2</th>\n      <td>0.207271</td>\n      <td>0.618192</td>\n      <td>0.659637</td>\n      <td>0.972189</td>\n      <td>0.641388</td>\n      <td>0.933037</td>\n    </tr>\n    <tr>\n      <th>3</th>\n      <td>0.622696</td>\n      <td>0.970625</td>\n      <td>0.935213</td>\n      <td>0.846083</td>\n      <td>0.517119</td>\n      <td>0.782236</td>\n    </tr>\n    <tr>\n      <th>4</th>\n      <td>0.413436</td>\n      <td>0.357519</td>\n      <td>0.630102</td>\n      <td>0.398503</td>\n      <td>0.922693</td>\n      <td>0.287006</td>\n    </tr>\n  </tbody>\n</table>\n</div>"
     },
     "metadata": {},
     "execution_count": 22
    }
   ],
   "source": [
    "datafr.head()"
   ]
  },
  {
   "cell_type": "code",
   "execution_count": 32,
   "metadata": {},
   "outputs": [
    {
     "output_type": "execute_result",
     "data": {
      "text/plain": [
       "           0         1         2         3         4         5\n",
       "0  nithin tm  0.596955  0.125960  0.556828  0.379832  0.514661\n",
       "1   0.161528  0.402824  0.011391  0.016977  0.332403  0.605392\n",
       "2   0.207271  0.618192  0.659637  0.972189  0.641388  0.933037\n",
       "3   0.622696  0.970625  0.935213  0.846083  0.517119  0.782236\n",
       "4   0.413436  0.357519  0.630102  0.398503  0.922693  0.287006"
      ],
      "text/html": "<div>\n<style scoped>\n    .dataframe tbody tr th:only-of-type {\n        vertical-align: middle;\n    }\n\n    .dataframe tbody tr th {\n        vertical-align: top;\n    }\n\n    .dataframe thead th {\n        text-align: right;\n    }\n</style>\n<table border=\"1\" class=\"dataframe\">\n  <thead>\n    <tr style=\"text-align: right;\">\n      <th></th>\n      <th>0</th>\n      <th>1</th>\n      <th>2</th>\n      <th>3</th>\n      <th>4</th>\n      <th>5</th>\n    </tr>\n  </thead>\n  <tbody>\n    <tr>\n      <th>0</th>\n      <td>nithin tm</td>\n      <td>0.596955</td>\n      <td>0.125960</td>\n      <td>0.556828</td>\n      <td>0.379832</td>\n      <td>0.514661</td>\n    </tr>\n    <tr>\n      <th>1</th>\n      <td>0.161528</td>\n      <td>0.402824</td>\n      <td>0.011391</td>\n      <td>0.016977</td>\n      <td>0.332403</td>\n      <td>0.605392</td>\n    </tr>\n    <tr>\n      <th>2</th>\n      <td>0.207271</td>\n      <td>0.618192</td>\n      <td>0.659637</td>\n      <td>0.972189</td>\n      <td>0.641388</td>\n      <td>0.933037</td>\n    </tr>\n    <tr>\n      <th>3</th>\n      <td>0.622696</td>\n      <td>0.970625</td>\n      <td>0.935213</td>\n      <td>0.846083</td>\n      <td>0.517119</td>\n      <td>0.782236</td>\n    </tr>\n    <tr>\n      <th>4</th>\n      <td>0.413436</td>\n      <td>0.357519</td>\n      <td>0.630102</td>\n      <td>0.398503</td>\n      <td>0.922693</td>\n      <td>0.287006</td>\n    </tr>\n  </tbody>\n</table>\n</div>"
     },
     "metadata": {},
     "execution_count": 32
    }
   ],
   "source": [
    "datafr[0][0]= \"nithin tm\"      #row and column\n",
    "datafr.head()\n"
   ]
  },
  {
   "cell_type": "code",
   "execution_count": 33,
   "metadata": {},
   "outputs": [
    {
     "output_type": "execute_result",
     "data": {
      "text/plain": [
       "0     object\n",
       "1    float64\n",
       "2    float64\n",
       "3    float64\n",
       "4    float64\n",
       "5    float64\n",
       "dtype: object"
      ]
     },
     "metadata": {},
     "execution_count": 33
    }
   ],
   "source": [
    "datafr.dtypes"
   ]
  },
  {
   "cell_type": "code",
   "execution_count": 34,
   "metadata": {},
   "outputs": [
    {
     "output_type": "execute_result",
     "data": {
      "text/plain": [
       "           0         1         2         3         4         5\n",
       "0  nithin tm  0.596955  0.125960  0.556828  0.379832  0.514661\n",
       "1   0.161528  0.402824  0.011391  0.016977  0.332403  0.605392\n",
       "2   0.207271  0.618192  0.659637  0.972189  0.641388  0.933037\n",
       "3   0.622696  0.970625  0.935213  0.846083  0.517119  0.782236\n",
       "4   0.413436  0.357519  0.630102  0.398503  0.922693  0.287006"
      ],
      "text/html": "<div>\n<style scoped>\n    .dataframe tbody tr th:only-of-type {\n        vertical-align: middle;\n    }\n\n    .dataframe tbody tr th {\n        vertical-align: top;\n    }\n\n    .dataframe thead th {\n        text-align: right;\n    }\n</style>\n<table border=\"1\" class=\"dataframe\">\n  <thead>\n    <tr style=\"text-align: right;\">\n      <th></th>\n      <th>0</th>\n      <th>1</th>\n      <th>2</th>\n      <th>3</th>\n      <th>4</th>\n      <th>5</th>\n    </tr>\n  </thead>\n  <tbody>\n    <tr>\n      <th>0</th>\n      <td>nithin tm</td>\n      <td>0.596955</td>\n      <td>0.125960</td>\n      <td>0.556828</td>\n      <td>0.379832</td>\n      <td>0.514661</td>\n    </tr>\n    <tr>\n      <th>1</th>\n      <td>0.161528</td>\n      <td>0.402824</td>\n      <td>0.011391</td>\n      <td>0.016977</td>\n      <td>0.332403</td>\n      <td>0.605392</td>\n    </tr>\n    <tr>\n      <th>2</th>\n      <td>0.207271</td>\n      <td>0.618192</td>\n      <td>0.659637</td>\n      <td>0.972189</td>\n      <td>0.641388</td>\n      <td>0.933037</td>\n    </tr>\n    <tr>\n      <th>3</th>\n      <td>0.622696</td>\n      <td>0.970625</td>\n      <td>0.935213</td>\n      <td>0.846083</td>\n      <td>0.517119</td>\n      <td>0.782236</td>\n    </tr>\n    <tr>\n      <th>4</th>\n      <td>0.413436</td>\n      <td>0.357519</td>\n      <td>0.630102</td>\n      <td>0.398503</td>\n      <td>0.922693</td>\n      <td>0.287006</td>\n    </tr>\n  </tbody>\n</table>\n</div>"
     },
     "metadata": {},
     "execution_count": 34
    }
   ],
   "source": [
    "datafr.head()"
   ]
  },
  {
   "cell_type": "code",
   "execution_count": 35,
   "metadata": {},
   "outputs": [
    {
     "output_type": "execute_result",
     "data": {
      "text/plain": [
       "         0          1         2         3         4         5         6    \\\n",
       "0  nithin tm   0.161528  0.207271  0.622696  0.413436  0.107641  0.506473   \n",
       "1   0.596955   0.402824  0.618192  0.970625  0.357519  0.896425  0.991006   \n",
       "2    0.12596  0.0113907  0.659637  0.935213  0.630102  0.998818  0.874407   \n",
       "3   0.556828  0.0169769  0.972189  0.846083  0.398503  0.848029   0.56627   \n",
       "4   0.379832   0.332403  0.641388  0.517119  0.922693  0.594589  0.492583   \n",
       "5   0.514661   0.605392  0.933037  0.782236  0.287006  0.115073  0.958795   \n",
       "\n",
       "         7          8         9    ...       219        220          221  \\\n",
       "0   0.589417   0.194915  0.492543  ...  0.784569   0.869805     0.638514   \n",
       "1  0.0159377  0.0797302  0.663487  ...  0.680931   0.288792  5.74947e-05   \n",
       "2   0.451465   0.808257  0.520923  ...   0.49887   0.563087     0.845705   \n",
       "3   0.575804   0.444221   0.87097  ...  0.144249   0.476535     0.246873   \n",
       "4   0.865305   0.656264  0.292522  ...  0.391073   0.687391     0.807048   \n",
       "5   0.347847   0.458794  0.105833  ...  0.134751  0.0808778     0.575317   \n",
       "\n",
       "        222         223          224       225       226         227       228  \n",
       "0   0.23768    0.167391     0.272401  0.444971  0.833411    0.902008  0.750771  \n",
       "1  0.296446    0.621462     0.781633  0.522284  0.807278   0.0140234   0.62949  \n",
       "2  0.484058    0.031567     0.910717  0.674691  0.846535    0.829247  0.948745  \n",
       "3  0.661293  0.00637926  0.000953783  0.326321  0.601713    0.888083  0.967471  \n",
       "4  0.505726    0.268559     0.806334  0.200524  0.113366  0.00340933  0.131114  \n",
       "5  0.998868    0.331391     0.974305  0.873504  0.371206    0.894742  0.186845  \n",
       "\n",
       "[6 rows x 229 columns]"
      ],
      "text/html": "<div>\n<style scoped>\n    .dataframe tbody tr th:only-of-type {\n        vertical-align: middle;\n    }\n\n    .dataframe tbody tr th {\n        vertical-align: top;\n    }\n\n    .dataframe thead th {\n        text-align: right;\n    }\n</style>\n<table border=\"1\" class=\"dataframe\">\n  <thead>\n    <tr style=\"text-align: right;\">\n      <th></th>\n      <th>0</th>\n      <th>1</th>\n      <th>2</th>\n      <th>3</th>\n      <th>4</th>\n      <th>5</th>\n      <th>6</th>\n      <th>7</th>\n      <th>8</th>\n      <th>9</th>\n      <th>...</th>\n      <th>219</th>\n      <th>220</th>\n      <th>221</th>\n      <th>222</th>\n      <th>223</th>\n      <th>224</th>\n      <th>225</th>\n      <th>226</th>\n      <th>227</th>\n      <th>228</th>\n    </tr>\n  </thead>\n  <tbody>\n    <tr>\n      <th>0</th>\n      <td>nithin tm</td>\n      <td>0.161528</td>\n      <td>0.207271</td>\n      <td>0.622696</td>\n      <td>0.413436</td>\n      <td>0.107641</td>\n      <td>0.506473</td>\n      <td>0.589417</td>\n      <td>0.194915</td>\n      <td>0.492543</td>\n      <td>...</td>\n      <td>0.784569</td>\n      <td>0.869805</td>\n      <td>0.638514</td>\n      <td>0.23768</td>\n      <td>0.167391</td>\n      <td>0.272401</td>\n      <td>0.444971</td>\n      <td>0.833411</td>\n      <td>0.902008</td>\n      <td>0.750771</td>\n    </tr>\n    <tr>\n      <th>1</th>\n      <td>0.596955</td>\n      <td>0.402824</td>\n      <td>0.618192</td>\n      <td>0.970625</td>\n      <td>0.357519</td>\n      <td>0.896425</td>\n      <td>0.991006</td>\n      <td>0.0159377</td>\n      <td>0.0797302</td>\n      <td>0.663487</td>\n      <td>...</td>\n      <td>0.680931</td>\n      <td>0.288792</td>\n      <td>5.74947e-05</td>\n      <td>0.296446</td>\n      <td>0.621462</td>\n      <td>0.781633</td>\n      <td>0.522284</td>\n      <td>0.807278</td>\n      <td>0.0140234</td>\n      <td>0.62949</td>\n    </tr>\n    <tr>\n      <th>2</th>\n      <td>0.12596</td>\n      <td>0.0113907</td>\n      <td>0.659637</td>\n      <td>0.935213</td>\n      <td>0.630102</td>\n      <td>0.998818</td>\n      <td>0.874407</td>\n      <td>0.451465</td>\n      <td>0.808257</td>\n      <td>0.520923</td>\n      <td>...</td>\n      <td>0.49887</td>\n      <td>0.563087</td>\n      <td>0.845705</td>\n      <td>0.484058</td>\n      <td>0.031567</td>\n      <td>0.910717</td>\n      <td>0.674691</td>\n      <td>0.846535</td>\n      <td>0.829247</td>\n      <td>0.948745</td>\n    </tr>\n    <tr>\n      <th>3</th>\n      <td>0.556828</td>\n      <td>0.0169769</td>\n      <td>0.972189</td>\n      <td>0.846083</td>\n      <td>0.398503</td>\n      <td>0.848029</td>\n      <td>0.56627</td>\n      <td>0.575804</td>\n      <td>0.444221</td>\n      <td>0.87097</td>\n      <td>...</td>\n      <td>0.144249</td>\n      <td>0.476535</td>\n      <td>0.246873</td>\n      <td>0.661293</td>\n      <td>0.00637926</td>\n      <td>0.000953783</td>\n      <td>0.326321</td>\n      <td>0.601713</td>\n      <td>0.888083</td>\n      <td>0.967471</td>\n    </tr>\n    <tr>\n      <th>4</th>\n      <td>0.379832</td>\n      <td>0.332403</td>\n      <td>0.641388</td>\n      <td>0.517119</td>\n      <td>0.922693</td>\n      <td>0.594589</td>\n      <td>0.492583</td>\n      <td>0.865305</td>\n      <td>0.656264</td>\n      <td>0.292522</td>\n      <td>...</td>\n      <td>0.391073</td>\n      <td>0.687391</td>\n      <td>0.807048</td>\n      <td>0.505726</td>\n      <td>0.268559</td>\n      <td>0.806334</td>\n      <td>0.200524</td>\n      <td>0.113366</td>\n      <td>0.00340933</td>\n      <td>0.131114</td>\n    </tr>\n    <tr>\n      <th>5</th>\n      <td>0.514661</td>\n      <td>0.605392</td>\n      <td>0.933037</td>\n      <td>0.782236</td>\n      <td>0.287006</td>\n      <td>0.115073</td>\n      <td>0.958795</td>\n      <td>0.347847</td>\n      <td>0.458794</td>\n      <td>0.105833</td>\n      <td>...</td>\n      <td>0.134751</td>\n      <td>0.0808778</td>\n      <td>0.575317</td>\n      <td>0.998868</td>\n      <td>0.331391</td>\n      <td>0.974305</td>\n      <td>0.873504</td>\n      <td>0.371206</td>\n      <td>0.894742</td>\n      <td>0.186845</td>\n    </tr>\n  </tbody>\n</table>\n<p>6 rows × 229 columns</p>\n</div>"
     },
     "metadata": {},
     "execution_count": 35
    }
   ],
   "source": [
    "datafr.T    # transpose"
   ]
  },
  {
   "cell_type": "code",
   "execution_count": 41,
   "metadata": {},
   "outputs": [
    {
     "output_type": "execute_result",
     "data": {
      "text/plain": [
       "             0         1         2         3         4         5\n",
       "228   0.750771  0.629490  0.948745  0.967471  0.131114  0.186845\n",
       "227   0.902008  0.014023  0.829247  0.888083  0.003409  0.894742\n",
       "226   0.833411  0.807278  0.846535  0.601713  0.113366  0.371206\n",
       "225   0.444971  0.522284  0.674691  0.326321  0.200524  0.873504\n",
       "224   0.272401  0.781633  0.910717  0.000954  0.806334  0.974305\n",
       "..         ...       ...       ...       ...       ...       ...\n",
       "4     0.413436  0.357519  0.630102  0.398503  0.922693  0.287006\n",
       "3     0.622696  0.970625  0.935213  0.846083  0.517119  0.782236\n",
       "2     0.207271  0.618192  0.659637  0.972189  0.641388  0.933037\n",
       "1     0.161528  0.402824  0.011391  0.016977  0.332403  0.605392\n",
       "0    nithin tm  0.596955  0.125960  0.556828  0.379832  0.514661\n",
       "\n",
       "[229 rows x 6 columns]"
      ],
      "text/html": "<div>\n<style scoped>\n    .dataframe tbody tr th:only-of-type {\n        vertical-align: middle;\n    }\n\n    .dataframe tbody tr th {\n        vertical-align: top;\n    }\n\n    .dataframe thead th {\n        text-align: right;\n    }\n</style>\n<table border=\"1\" class=\"dataframe\">\n  <thead>\n    <tr style=\"text-align: right;\">\n      <th></th>\n      <th>0</th>\n      <th>1</th>\n      <th>2</th>\n      <th>3</th>\n      <th>4</th>\n      <th>5</th>\n    </tr>\n  </thead>\n  <tbody>\n    <tr>\n      <th>228</th>\n      <td>0.750771</td>\n      <td>0.629490</td>\n      <td>0.948745</td>\n      <td>0.967471</td>\n      <td>0.131114</td>\n      <td>0.186845</td>\n    </tr>\n    <tr>\n      <th>227</th>\n      <td>0.902008</td>\n      <td>0.014023</td>\n      <td>0.829247</td>\n      <td>0.888083</td>\n      <td>0.003409</td>\n      <td>0.894742</td>\n    </tr>\n    <tr>\n      <th>226</th>\n      <td>0.833411</td>\n      <td>0.807278</td>\n      <td>0.846535</td>\n      <td>0.601713</td>\n      <td>0.113366</td>\n      <td>0.371206</td>\n    </tr>\n    <tr>\n      <th>225</th>\n      <td>0.444971</td>\n      <td>0.522284</td>\n      <td>0.674691</td>\n      <td>0.326321</td>\n      <td>0.200524</td>\n      <td>0.873504</td>\n    </tr>\n    <tr>\n      <th>224</th>\n      <td>0.272401</td>\n      <td>0.781633</td>\n      <td>0.910717</td>\n      <td>0.000954</td>\n      <td>0.806334</td>\n      <td>0.974305</td>\n    </tr>\n    <tr>\n      <th>...</th>\n      <td>...</td>\n      <td>...</td>\n      <td>...</td>\n      <td>...</td>\n      <td>...</td>\n      <td>...</td>\n    </tr>\n    <tr>\n      <th>4</th>\n      <td>0.413436</td>\n      <td>0.357519</td>\n      <td>0.630102</td>\n      <td>0.398503</td>\n      <td>0.922693</td>\n      <td>0.287006</td>\n    </tr>\n    <tr>\n      <th>3</th>\n      <td>0.622696</td>\n      <td>0.970625</td>\n      <td>0.935213</td>\n      <td>0.846083</td>\n      <td>0.517119</td>\n      <td>0.782236</td>\n    </tr>\n    <tr>\n      <th>2</th>\n      <td>0.207271</td>\n      <td>0.618192</td>\n      <td>0.659637</td>\n      <td>0.972189</td>\n      <td>0.641388</td>\n      <td>0.933037</td>\n    </tr>\n    <tr>\n      <th>1</th>\n      <td>0.161528</td>\n      <td>0.402824</td>\n      <td>0.011391</td>\n      <td>0.016977</td>\n      <td>0.332403</td>\n      <td>0.605392</td>\n    </tr>\n    <tr>\n      <th>0</th>\n      <td>nithin tm</td>\n      <td>0.596955</td>\n      <td>0.125960</td>\n      <td>0.556828</td>\n      <td>0.379832</td>\n      <td>0.514661</td>\n    </tr>\n  </tbody>\n</table>\n<p>229 rows × 6 columns</p>\n</div>"
     },
     "metadata": {},
     "execution_count": 41
    }
   ],
   "source": [
    "datafr.sort_index(axis=0, ascending=False)       # axis=0 means rows or 1 means column and by default ascending is true"
   ]
  },
  {
   "cell_type": "code",
   "execution_count": 48,
   "metadata": {},
   "outputs": [
    {
     "output_type": "execute_result",
     "data": {
      "text/plain": [
       "           0         1         2         3         4         5\n",
       "0  nithin tm  0.596955  0.125960  0.556828  0.379832  0.514661\n",
       "1   0.161528  0.402824  0.011391  0.016977  0.332403  0.605392\n",
       "2   0.207271  0.618192  0.659637  0.972189  0.641388  0.933037\n",
       "3   0.622696  0.970625  0.935213  0.846083  0.517119  0.782236\n",
       "4   0.413436  0.357519  0.630102  0.398503  0.922693  0.287006"
      ],
      "text/html": "<div>\n<style scoped>\n    .dataframe tbody tr th:only-of-type {\n        vertical-align: middle;\n    }\n\n    .dataframe tbody tr th {\n        vertical-align: top;\n    }\n\n    .dataframe thead th {\n        text-align: right;\n    }\n</style>\n<table border=\"1\" class=\"dataframe\">\n  <thead>\n    <tr style=\"text-align: right;\">\n      <th></th>\n      <th>0</th>\n      <th>1</th>\n      <th>2</th>\n      <th>3</th>\n      <th>4</th>\n      <th>5</th>\n    </tr>\n  </thead>\n  <tbody>\n    <tr>\n      <th>0</th>\n      <td>nithin tm</td>\n      <td>0.596955</td>\n      <td>0.125960</td>\n      <td>0.556828</td>\n      <td>0.379832</td>\n      <td>0.514661</td>\n    </tr>\n    <tr>\n      <th>1</th>\n      <td>0.161528</td>\n      <td>0.402824</td>\n      <td>0.011391</td>\n      <td>0.016977</td>\n      <td>0.332403</td>\n      <td>0.605392</td>\n    </tr>\n    <tr>\n      <th>2</th>\n      <td>0.207271</td>\n      <td>0.618192</td>\n      <td>0.659637</td>\n      <td>0.972189</td>\n      <td>0.641388</td>\n      <td>0.933037</td>\n    </tr>\n    <tr>\n      <th>3</th>\n      <td>0.622696</td>\n      <td>0.970625</td>\n      <td>0.935213</td>\n      <td>0.846083</td>\n      <td>0.517119</td>\n      <td>0.782236</td>\n    </tr>\n    <tr>\n      <th>4</th>\n      <td>0.413436</td>\n      <td>0.357519</td>\n      <td>0.630102</td>\n      <td>0.398503</td>\n      <td>0.922693</td>\n      <td>0.287006</td>\n    </tr>\n  </tbody>\n</table>\n</div>"
     },
     "metadata": {},
     "execution_count": 48
    }
   ],
   "source": [
    "newdf=datafr.head(5)\n",
    "newdf"
   ]
  },
  {
   "cell_type": "code",
   "execution_count": 47,
   "metadata": {},
   "outputs": [
    {
     "output_type": "execute_result",
     "data": {
      "text/plain": [
       "          1         2         3         4         5\n",
       "0  0.596955  0.125960  0.556828  0.379832  0.514661\n",
       "1  0.402824  0.011391  0.016977  0.332403  0.605392\n",
       "2  0.618192  0.659637  0.972189  0.641388  0.933037\n",
       "3  0.970625  0.935213  0.846083  0.517119  0.782236\n",
       "4  0.357519  0.630102  0.398503  0.922693  0.287006"
      ],
      "text/html": "<div>\n<style scoped>\n    .dataframe tbody tr th:only-of-type {\n        vertical-align: middle;\n    }\n\n    .dataframe tbody tr th {\n        vertical-align: top;\n    }\n\n    .dataframe thead th {\n        text-align: right;\n    }\n</style>\n<table border=\"1\" class=\"dataframe\">\n  <thead>\n    <tr style=\"text-align: right;\">\n      <th></th>\n      <th>1</th>\n      <th>2</th>\n      <th>3</th>\n      <th>4</th>\n      <th>5</th>\n    </tr>\n  </thead>\n  <tbody>\n    <tr>\n      <th>0</th>\n      <td>0.596955</td>\n      <td>0.125960</td>\n      <td>0.556828</td>\n      <td>0.379832</td>\n      <td>0.514661</td>\n    </tr>\n    <tr>\n      <th>1</th>\n      <td>0.402824</td>\n      <td>0.011391</td>\n      <td>0.016977</td>\n      <td>0.332403</td>\n      <td>0.605392</td>\n    </tr>\n    <tr>\n      <th>2</th>\n      <td>0.618192</td>\n      <td>0.659637</td>\n      <td>0.972189</td>\n      <td>0.641388</td>\n      <td>0.933037</td>\n    </tr>\n    <tr>\n      <th>3</th>\n      <td>0.970625</td>\n      <td>0.935213</td>\n      <td>0.846083</td>\n      <td>0.517119</td>\n      <td>0.782236</td>\n    </tr>\n    <tr>\n      <th>4</th>\n      <td>0.357519</td>\n      <td>0.630102</td>\n      <td>0.398503</td>\n      <td>0.922693</td>\n      <td>0.287006</td>\n    </tr>\n  </tbody>\n</table>\n</div>"
     },
     "metadata": {},
     "execution_count": 47
    }
   ],
   "source": [
    "# to delete row or column\n",
    "newdf.drop(0,axis=1) #it removed 0 column"
   ]
  },
  {
   "cell_type": "code",
   "execution_count": null,
   "metadata": {},
   "outputs": [],
   "source": []
  }
 ]
}