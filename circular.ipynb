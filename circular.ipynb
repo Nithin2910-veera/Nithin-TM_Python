{
 "cells": [
  {
   "cell_type": "code",
   "execution_count": 2,
   "metadata": {},
   "outputs": [
    {
     "name": "stdout",
     "output_type": "stream",
     "text": [
      "Enter the list items : 11,13,16\n",
      "Enter the list items : 16,19,12,22,24\n",
      "[11, 13, 16]\n",
      "[16, 19, 12, 22, 24]\n",
      "circular convolution using convolution sum formula output response y =\n",
      " [840. 801. 635. 702. 742.]\n"
     ]
    }
   ],
   "source": [
    "#Program to perform cercular convolution\n",
    "import numpy as np\n",
    "#defining x[n] naming it as x\n",
    "x=[]\n",
    "x = [int(item) for item in input(\"Enter the list items : \").split(',')]\n",
    "#defining h[n] naming it as h\n",
    "h=[]\n",
    "h = [int(item) for item in input(\"Enter the list items : \").split(',')]\n",
    "print (x)\n",
    "print (h)\n",
    "N1 = len(x)\n",
    "N2 = len(h)\n",
    "N = max(N1,N2)\n",
    "y = np.zeros(N) \n",
    "m = N-N1\n",
    "n = N-N2\n",
    "#Padding zeros to x and h to make their length to N\n",
    "x =np.pad(x,(0,m),'constant')\n",
    "h =np.pad(h,(0,n),'constant')\n",
    "#circular convolution using convolution sum formula\n",
    "for n in range (N):\n",
    "    for k in range (N):\n",
    "             y[n] = y[n]+x[n-k]*h[k]\n",
    "         \n",
    "\n",
    "print('circular convolution using convolution sum formula output response y =\\n',y)"
   ]
  },
  {
   "cell_type": "code",
   "execution_count": null,
   "metadata": {},
   "outputs": [],
   "source": []
  }
 ],
 "metadata": {
  "kernelspec": {
   "display_name": "Python 3",
   "language": "python",
   "name": "python3"
  },
  "language_info": {
   "codemirror_mode": {
    "name": "ipython",
    "version": 3
   },
   "file_extension": ".py",
   "mimetype": "text/x-python",
   "name": "python",
   "nbconvert_exporter": "python",
   "pygments_lexer": "ipython3",
   "version": "3.8.3"
  }
 },
 "nbformat": 4,
 "nbformat_minor": 4
}
