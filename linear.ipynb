{
 "cells": [
  {
   "cell_type": "code",
   "execution_count": 3,
   "metadata": {},
   "outputs": [
    {
     "name": "stdout",
     "output_type": "stream",
     "text": [
      "Enter the list items : 1 2 3 4 5\n",
      "Enter the list items : 1,2,3,4\n",
      "[1, 2, 3, 4, 5]\n",
      "[1, 2, 3, 4]\n",
      "Linear convolution using convolution sum formula output response y =\n",
      " [ 1.  4. 10. 20. 30. 34. 31. 20.]\n",
      "Linear convolution using NumPy built-in function output response y=\n",
      " [ 1  4 10 20 30 34 31 20]\n"
     ]
    }
   ],
   "source": [
    "#Program to perform linear convolution\n",
    "import numpy as np\n",
    "#defining x[n] naming it as x\n",
    "x=[]\n",
    "x = [int(item) for item in input(\"Enter the list items : \").split(' ')]\n",
    "#defining h[n] naming it as h\n",
    "h=[]\n",
    "h = [int(item) for item in input(\"Enter the list items : \").split(',')]\n",
    "print (x)\n",
    "print (h)\n",
    "N1 = len(x)\n",
    "N2 = len(h)\n",
    "N = N1+N2-1 # Total length -1\n",
    "y = np.zeros(N)\n",
    "#Linear convolution using built-in function in NumPy\n",
    "y1 = np.convolve(x,h) #inbuilt function\n",
    "m = N-N1\n",
    "n = N-N2\n",
    "#Padding zeros to x and h to make their length to N\n",
    "x =np.pad(x,(0,m),'constant')\n",
    "h =np.pad(h,(0,n),'constant')\n",
    "#Linear convolution using convolution sum formula\n",
    "for n in range (N):\n",
    "    for k in range (N):\n",
    "        if n >= k:\n",
    "             y[n] = y[n]+x[n-k]*h[k]   \n",
    "\n",
    "print('Linear convolution using convolution sum formula output response y =\\n',y)\n",
    "print('Linear convolution using NumPy built-in function output response y=\\n',y1)\n"
   ]
  },
  {
   "cell_type": "code",
   "execution_count": null,
   "metadata": {},
   "outputs": [],
   "source": []
  }
 ],
 "metadata": {
  "kernelspec": {
   "display_name": "Python 3",
   "language": "python",
   "name": "python3"
  }
 },
 "nbformat": 4,
 "nbformat_minor": 4
}
